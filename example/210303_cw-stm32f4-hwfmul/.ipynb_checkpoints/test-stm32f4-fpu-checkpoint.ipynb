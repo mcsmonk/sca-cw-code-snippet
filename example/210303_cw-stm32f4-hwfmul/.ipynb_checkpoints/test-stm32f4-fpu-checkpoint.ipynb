{
 "cells": [
  {
   "cell_type": "code",
   "execution_count": 1,
   "metadata": {},
   "outputs": [],
   "source": [
    "import chipwhisperer as cw"
   ]
  },
  {
   "cell_type": "code",
   "execution_count": 2,
   "metadata": {},
   "outputs": [
    {
     "name": "stdout",
     "output_type": "stream",
     "text": [
      "Serial baud rate = 38400\n"
     ]
    }
   ],
   "source": [
    "scope = cw.scope()\n",
    "target = cw.target(scope)"
   ]
  },
  {
   "cell_type": "code",
   "execution_count": 3,
   "metadata": {},
   "outputs": [],
   "source": [
    "scope.default_setup()"
   ]
  },
  {
   "cell_type": "code",
   "execution_count": 4,
   "metadata": {},
   "outputs": [],
   "source": [
    "PLATFORM = 'CW308_STM32F4'\n",
    "CUSTOM_NAME = 'fpu'"
   ]
  },
  {
   "cell_type": "code",
   "execution_count": 5,
   "metadata": {},
   "outputs": [
    {
     "name": "stdout",
     "output_type": "stream",
     "text": [
      "Serial baud rate = 115200\n",
      "Serial baud rate = 115200\n",
      "Detected known STMF32: STM32F40xxx/41xxx\n",
      "Extended erase (0x44), this can take ten seconds or more\n",
      "Attempting to program 7303 bytes at 0x8000000\n",
      "STM32F Programming flash...\n",
      "STM32F Reading flash...\n",
      "Verified flash OK, 7303 bytes\n",
      "Serial baud rate = 38400\n"
     ]
    }
   ],
   "source": [
    "if \"STM\" in PLATFORM or PLATFORM == \"CWLITEARM\" or PLATFORM == \"CWNANO\":\n",
    "    target.baud = 115200\n",
    "    prog = cw.programmers.STM32FProgrammer\n",
    "elif PLATFORM == \"CW303\" or PLATFORM == \"CWLITEXMEGA\":\n",
    "    target.baud = 38400\n",
    "    prog = cw.programmers.XMEGAProgrammer\n",
    "\n",
    "cw.program_target(scope, prog, \"firmware-stm32f4-fpu/{}/stm32f4-fpu-{}.hex\".format(CUSTOM_NAME, PLATFORM)) #, baud=38400"
   ]
  },
  {
   "cell_type": "markdown",
   "metadata": {},
   "source": [
    "Code\n",
    "``` C\n",
    "// input : 16 byte uint8_t random\n",
    "uint8_t get_pt(uint8_t* pt)\n",
    "{\n",
    "    float a[4],b[4];\n",
    "    float c[4];\n",
    "\tuint8_t *pc = (uint8_t*)c;\n",
    "    int i;\n",
    "\n",
    "    for(i = 0 ; i < 4 ;i++) {\n",
    "        //a[i] = (float)rand()/(float)(RAND_MAX/2.0);\n",
    "        //b[i] = (float)rand()/(float)(RAND_MAX/2.0);\n",
    "        a[i] = pt[i] * 2.5 + 1;\n",
    "        b[i] = pt[i] * (-2.5) - 1;\n",
    "    }\n",
    "\n",
    "    trigger_high();\n",
    "    \n",
    "    for(i = 0 ; i < 4 ;i++) {\n",
    "        c[i] = a[i] * b[i];\n",
    "    }\n",
    "    \n",
    "    trigger_low();\n",
    "\n",
    "    for(i = 0 ; i < 16 ;i++) {\n",
    "        pt[i] = pc[i];\n",
    "\t}\n",
    "    \n",
    "\tsimpleserial_put('r', 16, pt);\n",
    "\treturn 0x00;\n",
    "}\n",
    "```"
   ]
  },
  {
   "cell_type": "code",
   "execution_count": 6,
   "metadata": {},
   "outputs": [],
   "source": [
    "ktp = cw.ktp.Basic()"
   ]
  },
  {
   "cell_type": "code",
   "execution_count": 7,
   "metadata": {},
   "outputs": [
    {
     "name": "stdout",
     "output_type": "stream",
     "text": [
      "CWbytearray(b'a7 89 24 02 de 43 95 3b be ec 07 91 06 eb 6f f4')\n",
      "CWbytearray(b'90 09 2b c8 20 74 e6 c7 00 64 01 c6 00 00 10 c2')\n"
     ]
    }
   ],
   "source": [
    "_, text = ktp.next()\n",
    "print(text)\n",
    "target.simpleserial_write('p', text)\n",
    "response = target.simpleserial_read('r', 16, ack=True)\n",
    "print(response)"
   ]
  },
  {
   "cell_type": "code",
   "execution_count": 8,
   "metadata": {},
   "outputs": [],
   "source": [
    "target.dis()\n",
    "scope.dis()"
   ]
  },
  {
   "cell_type": "code",
   "execution_count": null,
   "metadata": {},
   "outputs": [],
   "source": []
  }
 ],
 "metadata": {
  "kernelspec": {
   "display_name": "Python 3",
   "language": "python",
   "name": "python3"
  },
  "language_info": {
   "codemirror_mode": {
    "name": "ipython",
    "version": 3
   },
   "file_extension": ".py",
   "mimetype": "text/x-python",
   "name": "python",
   "nbconvert_exporter": "python",
   "pygments_lexer": "ipython3",
   "version": "3.7.4"
  },
  "toc": {
   "base_numbering": 1,
   "nav_menu": {},
   "number_sections": true,
   "sideBar": true,
   "skip_h1_title": false,
   "title_cell": "Table of Contents",
   "title_sidebar": "Contents",
   "toc_cell": false,
   "toc_position": {},
   "toc_section_display": true,
   "toc_window_display": false
  }
 },
 "nbformat": 4,
 "nbformat_minor": 4
}
